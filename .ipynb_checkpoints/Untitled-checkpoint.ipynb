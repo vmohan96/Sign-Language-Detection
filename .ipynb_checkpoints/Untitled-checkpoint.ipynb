{
 "cells": [
  {
   "cell_type": "code",
   "execution_count": 2,
   "id": "5c8505f3-f3f0-499a-ad0f-12c0263d3a92",
   "metadata": {},
   "outputs": [],
   "source": [
    "import pathlib\n",
    "from tensorflow.keras.preprocessing.image import ImageDataGenerator"
   ]
  },
  {
   "cell_type": "code",
   "execution_count": null,
   "id": "10511364-ac5b-40a4-b6c9-00e12576490b",
   "metadata": {},
   "outputs": [],
   "source": [
    "train_path = pathlib."
   ]
  },
  {
   "cell_type": "code",
   "execution_count": 3,
   "id": "f8a14f92-47d6-4f44-8588-7626878c9a2a",
   "metadata": {},
   "outputs": [],
   "source": [
    "train_datagen = ImageDataGenerator()"
   ]
  },
  {
   "cell_type": "code",
   "execution_count": 8,
   "id": "c2bc9f47-a668-4937-8691-34124c0bd288",
   "metadata": {},
   "outputs": [
    {
     "name": "stdout",
     "output_type": "stream",
     "text": [
      "Found 12 images belonging to 2 classes.\n"
     ]
    }
   ],
   "source": [
    "train_generator = train_datagen.flow_from_directory(\n",
    "    \"C:/Users/vmoha/MPCS/Applied Data Analysis/Sign-Language-Detection/dummy_data/\",\n",
    "    class_mode=\"binary\",\n",
    "    classes = ['corot', 'forgery']\n",
    ")"
   ]
  },
  {
   "cell_type": "code",
   "execution_count": null,
   "id": "e0259a2c-4b24-4bab-a060-4ff3b83ef134",
   "metadata": {},
   "outputs": [],
   "source": []
  }
 ],
 "metadata": {
  "kernelspec": {
   "display_name": "Python 3 (ipykernel)",
   "language": "python",
   "name": "python3"
  },
  "language_info": {
   "codemirror_mode": {
    "name": "ipython",
    "version": 3
   },
   "file_extension": ".py",
   "mimetype": "text/x-python",
   "name": "python",
   "nbconvert_exporter": "python",
   "pygments_lexer": "ipython3",
   "version": "3.9.12"
  }
 },
 "nbformat": 4,
 "nbformat_minor": 5
}
