{
 "cells": [
  {
   "cell_type": "code",
   "execution_count": 1,
   "id": "3a1847a9-256d-4b0d-990a-5fdb81075fea",
   "metadata": {},
   "outputs": [],
   "source": [
    "import pathlib\n",
    "import matplotlib.pyplot as plt\n",
    "import numpy as np\n",
    "import os\n",
    "import glob\n",
    "import cv2\n",
    "import xml.etree.ElementTree as et\n",
    "import pandas as pd\n",
    "import shutil"
   ]
  },
  {
   "cell_type": "markdown",
   "id": "0d88ac09-fcdb-422c-a54d-3b8db16e87a0",
   "metadata": {},
   "source": [
    "### More ASL Letters"
   ]
  },
  {
   "cell_type": "code",
   "execution_count": 22,
   "id": "f5103958-2b8e-4783-8f64-def48d220782",
   "metadata": {},
   "outputs": [],
   "source": [
    "more_train_path = pathlib.Path(\"C:/Users/vmoha/MPCS/Applied Data Analysis/Sign-Language-Detection/data/More-ASL-Letters/asl_alphabet_train\")\n",
    "more_train_images = sorted(glob.glob(os.path.join(more_train_path, \"\\\\**\\\\*.jpg\"), recursive=True))\n",
    "\n",
    "more_test_path = pathlib.Path(\"C:/Users/vmoha/MPCS/Applied Data Analysis/Sign-Language-Detection/data/\")\n",
    "more_test_images = sorted(glob.glob(os.path.join(test_img_path, \"*.jpg\")))"
   ]
  },
  {
   "cell_type": "code",
   "execution_count": 21,
   "id": "3d801a58-bae8-410b-9de6-2184e0a461ee",
   "metadata": {},
   "outputs": [
    {
     "data": {
      "text/plain": [
       "'C:\\\\**\\\\*.jpg'"
      ]
     },
     "execution_count": 21,
     "metadata": {},
     "output_type": "execute_result"
    }
   ],
   "source": [
    "os.path.join(more_train_path, \"\\\\**\\\\*.jpg\")"
   ]
  },
  {
   "cell_type": "code",
   "execution_count": 23,
   "id": "e2a2e3a9-ca76-46a3-864e-60de3d53af56",
   "metadata": {},
   "outputs": [
    {
     "data": {
      "text/plain": [
       "102801"
      ]
     },
     "execution_count": 23,
     "metadata": {},
     "output_type": "execute_result"
    }
   ],
   "source": [
    "len(more_train_images)"
   ]
  },
  {
   "cell_type": "code",
   "execution_count": null,
   "id": "9eea2031-e726-48e1-8991-bd46e3e32a5b",
   "metadata": {},
   "outputs": [],
   "source": [
    "test_image_path = os.path.join(train_img_path,'A0_jpg.rf.292a080422ba984985192f413101af41.jpg')\n",
    "test_image = cv2.imread(test_image_path)\n",
    "plt.imshow(cv2.cvtColor(test_image, cv2.COLOR_BGR2RGB));"
   ]
  }
 ],
 "metadata": {
  "kernelspec": {
   "display_name": "Python 3 (ipykernel)",
   "language": "python",
   "name": "python3"
  },
  "language_info": {
   "codemirror_mode": {
    "name": "ipython",
    "version": 3
   },
   "file_extension": ".py",
   "mimetype": "text/x-python",
   "name": "python",
   "nbconvert_exporter": "python",
   "pygments_lexer": "ipython3",
   "version": "3.9.12"
  }
 },
 "nbformat": 4,
 "nbformat_minor": 5
}
